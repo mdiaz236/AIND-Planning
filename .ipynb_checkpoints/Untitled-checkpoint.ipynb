{
 "cells": [
  {
   "cell_type": "code",
   "execution_count": 1,
   "metadata": {
    "collapsed": true
   },
   "outputs": [],
   "source": [
    "from aimacode.planning import Action\n",
    "from aimacode.search import Problem\n",
    "from aimacode.utils import expr\n",
    "from lp_utils import decode_state\n",
    "import logging\n",
    "from my_planning_graph import (\n",
    "    PlanningGraph, PgNode_a, PgNode_s, mutexify\n",
    ")\n",
    "import run_search\n",
    "from example_have_cake import have_cake\n"
   ]
  },
  {
   "cell_type": "code",
   "execution_count": 2,
   "metadata": {
    "collapsed": true
   },
   "outputs": [
    {
     "data": {
      "text/plain": [
       "[['Air Cargo Problem 1', <function my_air_cargo_problems.air_cargo_p1>],\n",
       " ['Air Cargo Problem 2', <function my_air_cargo_problems.air_cargo_p2>],\n",
       " ['Air Cargo Problem 3', <function my_air_cargo_problems.air_cargo_p3>]]"
      ]
     },
     "execution_count": 2,
     "metadata": {},
     "output_type": "execute_result"
    }
   ],
   "source": [
    "run_search.PROBLEMS"
   ]
  },
  {
   "cell_type": "code",
   "execution_count": 3,
   "metadata": {
    "collapsed": true
   },
   "outputs": [],
   "source": [
    "p = have_cake()\n",
    "problem = p"
   ]
  },
  {
   "cell_type": "code",
   "execution_count": 4,
   "metadata": {
    "collapsed": false
   },
   "outputs": [],
   "source": [
    "def noop_actions(literal_list):\n",
    "    \"\"\"create persistent action for each possible fluent\n",
    "\n",
    "    \"No-Op\" actions are virtual actions (i.e., actions that only exist in\n",
    "    the planning graph, not in the planning problem domain) that operate\n",
    "    on each fluent (literal expression) from the problem domain. No op\n",
    "    actions \"pass through\" the literal expressions from one level of the\n",
    "    planning graph to the next.\n",
    "\n",
    "    The no-op action list requires both a positive and a negative action\n",
    "    for each literal expression. Positive no-op actions require the literal\n",
    "    as a positive precondition and add the literal expression as an effect\n",
    "    in the output, and negative no-op actions require the literal as a\n",
    "    negative precondition and remove the literal expression as an effect in\n",
    "    the output.\n",
    "\n",
    "    This function should only be called by the class constructor.\n",
    "\n",
    "    :param literal_list:\n",
    "    :return: list of Action\n",
    "    \"\"\"\n",
    "    action_list = []\n",
    "    for fluent in literal_list:\n",
    "        act1 = Action(expr(\"Noop_pos({})\".format(fluent)), ([fluent], []), ([fluent], []))\n",
    "        action_list.append(act1)\n",
    "        act2 = Action(expr(\"Noop_neg({})\".format(fluent)), ([], [fluent]), ([], [fluent]))\n",
    "        action_list.append(act2)\n",
    "    return action_list"
   ]
  },
  {
   "cell_type": "code",
   "execution_count": 5,
   "metadata": {
    "collapsed": true
   },
   "outputs": [],
   "source": [
    "pg = PlanningGraph(p, p.initial)"
   ]
  },
  {
   "cell_type": "code",
   "execution_count": null,
   "metadata": {
    "collapsed": false
   },
   "outputs": [],
   "source": []
  },
  {
   "cell_type": "code",
   "execution_count": 6,
   "metadata": {
    "collapsed": true
   },
   "outputs": [],
   "source": [
    "fs = decode_state(p.initial, problem.state_map)"
   ]
  },
  {
   "cell_type": "code",
   "execution_count": 7,
   "metadata": {
    "collapsed": true
   },
   "outputs": [
    {
     "data": {
      "text/plain": [
       "(Have(Cake) & ~Eaten(Cake))"
      ]
     },
     "execution_count": 7,
     "metadata": {},
     "output_type": "execute_result"
    }
   ],
   "source": [
    "fs.sentence()"
   ]
  },
  {
   "cell_type": "code",
   "execution_count": 8,
   "metadata": {
    "collapsed": false
   },
   "outputs": [],
   "source": [
    "all_actions = problem.actions_list + noop_actions(problem.state_map)\n",
    "s_levels = []\n",
    "a_levels = []"
   ]
  },
  {
   "cell_type": "code",
   "execution_count": 9,
   "metadata": {
    "collapsed": true
   },
   "outputs": [
    {
     "data": {
      "text/plain": [
       "[<aimacode.planning.Action at 0x10b6752b0>,\n",
       " <aimacode.planning.Action at 0x10b6754e0>,\n",
       " <aimacode.planning.Action at 0x10b8d2860>,\n",
       " <aimacode.planning.Action at 0x10b8d2908>,\n",
       " <aimacode.planning.Action at 0x10b8d28d0>,\n",
       " <aimacode.planning.Action at 0x10b8d2978>]"
      ]
     },
     "execution_count": 9,
     "metadata": {},
     "output_type": "execute_result"
    }
   ],
   "source": [
    "all_actions"
   ]
  },
  {
   "cell_type": "code",
   "execution_count": 10,
   "metadata": {
    "collapsed": true
   },
   "outputs": [],
   "source": [
    "leveled = False\n",
    "level = 0\n",
    "s_levels.append(set())\n",
    "for literal in fs.pos:\n",
    "    s_levels[level].add(PgNode_s(literal, True))\n",
    "for literal in fs.neg:\n",
    "    s_levels[level].add(PgNode_s(literal, False))"
   ]
  },
  {
   "cell_type": "code",
   "execution_count": 11,
   "metadata": {
    "collapsed": true
   },
   "outputs": [
    {
     "data": {
      "text/plain": [
       "[{<my_planning_graph.PgNode_s at 0x10b8e62b0>,\n",
       "  <my_planning_graph.PgNode_s at 0x10b8e6358>}]"
      ]
     },
     "execution_count": 11,
     "metadata": {},
     "output_type": "execute_result"
    }
   ],
   "source": [
    "s_levels"
   ]
  },
  {
   "cell_type": "code",
   "execution_count": 12,
   "metadata": {
    "collapsed": true
   },
   "outputs": [],
   "source": [
    "## tests\n",
    "# p = have_cake()\n",
    "# pg = PlanningGraph(p, p.initial)\n",
    "# some independent nodes for testing mutex\n",
    "na1 = PgNode_a(Action(expr('Go(here)'),\n",
    "                      [[], []], [[expr('At(here)')], []]))\n",
    "na2 = PgNode_a(Action(expr('Go(there)'),\n",
    "                      [[], []], [[expr('At(there)')], []]))\n",
    "na3 = PgNode_a(Action(expr('Noop(At(there))'),\n",
    "                      [[expr('At(there)')], []], [[expr('At(there)')], []]))\n",
    "na4 = PgNode_a(Action(expr('Noop(At(here))'),\n",
    "                      [[expr('At(here)')], []], [[expr('At(here)')], []]))\n",
    "na5 = PgNode_a(Action(expr('Reverse(At(here))'),\n",
    "                      [[expr('At(here)')], []], [[], [expr('At(here)')]]))\n",
    "ns1 = PgNode_s(expr('At(here)'), True)\n",
    "ns2 = PgNode_s(expr('At(there)'), True)\n",
    "ns3 = PgNode_s(expr('At(here)'), False)\n",
    "ns4 = PgNode_s(expr('At(there)'), False)\n",
    "na1.children.add(ns1)\n",
    "ns1.parents.add(na1)\n",
    "na2.children.add(ns2)\n",
    "ns2.parents.add(na2)\n",
    "na1.parents.add(ns3)\n",
    "na2.parents.add(ns4)"
   ]
  },
  {
   "cell_type": "code",
   "execution_count": 13,
   "metadata": {
    "collapsed": true
   },
   "outputs": [],
   "source": [
    "mutexify(ns3, ns4)"
   ]
  },
  {
   "cell_type": "code",
   "execution_count": 14,
   "metadata": {
    "collapsed": true
   },
   "outputs": [
    {
     "data": {
      "text/plain": [
       "<my_planning_graph.PgNode_s at 0x10b902080>"
      ]
     },
     "execution_count": 14,
     "metadata": {},
     "output_type": "execute_result"
    }
   ],
   "source": [
    "list(list(na1.parents)[0].mutex)[0]"
   ]
  },
  {
   "cell_type": "code",
   "execution_count": 15,
   "metadata": {
    "collapsed": true
   },
   "outputs": [
    {
     "name": "stdout",
     "output_type": "stream",
     "text": [
      "\n",
      "*** Go(here,)\n",
      "1 parents\n",
      "1 children\n",
      "0 mutex\n",
      "\n",
      "*** Go(there,)\n",
      "1 parents\n",
      "1 children\n",
      "0 mutex\n"
     ]
    }
   ],
   "source": [
    "# PlanningGraph.competing_needs_mutex(self.pg, self.na1, self.na2)\n",
    "na1.show()\n",
    "na2.show()"
   ]
  },
  {
   "cell_type": "code",
   "execution_count": 16,
   "metadata": {
    "collapsed": true
   },
   "outputs": [
    {
     "name": "stdout",
     "output_type": "stream",
     "text": [
      "\n",
      "*** ~At(here)\n",
      "0 parents\n",
      "0 children\n",
      "1 mutex\n"
     ]
    },
    {
     "data": {
      "text/plain": [
       "[None]"
      ]
     },
     "execution_count": 16,
     "metadata": {},
     "output_type": "execute_result"
    }
   ],
   "source": [
    "[x.show() for x in na1.parents]"
   ]
  },
  {
   "cell_type": "code",
   "execution_count": 17,
   "metadata": {
    "collapsed": true
   },
   "outputs": [
    {
     "name": "stdout",
     "output_type": "stream",
     "text": [
      "[<my_planning_graph.PgNode_s object at 0x10b902080>]\n",
      "[<my_planning_graph.PgNode_s object at 0x10b8f3f60>]\n"
     ]
    }
   ],
   "source": [
    "print([m for x in na1.parents for m in x.mutex ])\n",
    "print([m for x in na2.parents for m in x.mutex ])"
   ]
  },
  {
   "cell_type": "code",
   "execution_count": 18,
   "metadata": {
    "collapsed": true
   },
   "outputs": [],
   "source": [
    "p = have_cake()\n",
    "pg = PlanningGraph(p, p.initial)\n"
   ]
  },
  {
   "cell_type": "code",
   "execution_count": 38,
   "metadata": {
    "collapsed": true
   },
   "outputs": [
    {
     "data": {
      "text/plain": [
       "'Have(Cake)'"
      ]
     },
     "execution_count": 38,
     "metadata": {},
     "output_type": "execute_result"
    }
   ],
   "source": [
    "level = list(pg.s_levels)\n",
    "goal_1 = pg.problem.goal[0]\n",
    "str(goal_1)"
   ]
  },
  {
   "cell_type": "code",
   "execution_count": 42,
   "metadata": {
    "collapsed": true
   },
   "outputs": [
    {
     "data": {
      "text/plain": [
       "True"
      ]
     },
     "execution_count": 42,
     "metadata": {},
     "output_type": "execute_result"
    }
   ],
   "source": [
    "pg.serial"
   ]
  },
  {
   "cell_type": "code",
   "execution_count": 25,
   "metadata": {
    "collapsed": true
   },
   "outputs": [
    {
     "name": "stdout",
     "output_type": "stream",
     "text": [
      "0\n",
      "\n",
      "*** Have(Cake)\n",
      "0 parents\n",
      "3 children\n",
      "0 mutex\n",
      "\n",
      "*** ~Eaten(Cake)\n",
      "0 parents\n",
      "3 children\n",
      "0 mutex\n",
      "1\n",
      "\n",
      "*** Have(Cake)\n",
      "1 parents\n",
      "6 children\n",
      "2 mutex\n",
      "\n",
      "*** ~Have(Cake)\n",
      "1 parents\n",
      "6 children\n",
      "2 mutex\n",
      "\n",
      "*** ~Eaten(Cake)\n",
      "1 parents\n",
      "6 children\n",
      "2 mutex\n",
      "\n",
      "*** Eaten(Cake)\n",
      "1 parents\n",
      "6 children\n",
      "2 mutex\n",
      "2\n",
      "\n",
      "*** Have(Cake)\n",
      "1 parents\n",
      "0 children\n",
      "1 mutex\n",
      "\n",
      "*** ~Have(Cake)\n",
      "1 parents\n",
      "0 children\n",
      "2 mutex\n",
      "\n",
      "*** ~Eaten(Cake)\n",
      "1 parents\n",
      "0 children\n",
      "2 mutex\n",
      "\n",
      "*** Eaten(Cake)\n",
      "1 parents\n",
      "0 children\n",
      "1 mutex\n"
     ]
    }
   ],
   "source": [
    "for i, level in enumerate(pg.s_levels):\n",
    "    print(i)\n",
    "    for literal in level:\n",
    "        literal.show()"
   ]
  },
  {
   "cell_type": "code",
   "execution_count": null,
   "metadata": {
    "collapsed": false
   },
   "outputs": [],
   "source": []
  }
 ],
 "metadata": {
  "celltoolbar": "Edit Metadata",
  "kernelspec": {
   "display_name": "aind",
   "language": "python",
   "name": "aind"
  },
  "language_info": {
   "codemirror_mode": {
    "name": "ipython",
    "version": 3
   },
   "file_extension": ".py",
   "mimetype": "text/x-python",
   "name": "python",
   "nbconvert_exporter": "python",
   "pygments_lexer": "ipython3",
   "version": "3.6.0"
  }
 },
 "nbformat": 4,
 "nbformat_minor": 2
}
